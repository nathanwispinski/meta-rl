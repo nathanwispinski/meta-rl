{
  "cells": [
    {
      "attachments": {},
      "cell_type": "markdown",
      "metadata": {
        "colab_type": "text",
        "id": "view-in-github"
      },
      "source": [
        "<a href=\"https://colab.research.google.com/github/nathanwispinski/meta-rl/blob/main/train.ipynb\" target=\"_parent\"><img src=\"https://colab.research.google.com/assets/colab-badge.svg\" alt=\"Open In Colab\"/></a>"
      ]
    },
    {
      "attachments": {},
      "cell_type": "markdown",
      "metadata": {
        "id": "Xh94QYkVL4Nf"
      },
      "source": [
        "# train.ipynb\n",
        "\n",
        "This is a Google Colab notebook to demo a single-thread version of agent training.\n",
        "\n",
        "For a (faster) distributed version of training, see the [meta-rl Github repo](https://github.com/nathanwispinski/meta-rl/).\n",
        "\n",
        "In the Setup section below, you will need to enter your Github username and access key, because this is a private repo.\n",
        "\n",
        "For any questions, contact nathan3@ualberta.ca."
      ]
    },
    {
      "cell_type": "markdown",
      "metadata": {
        "id": "dIZ_cxlLMDRi"
      },
      "source": [
        "# Setup"
      ]
    },
    {
      "cell_type": "code",
      "execution_count": 2,
      "metadata": {
        "cellView": "form",
        "colab": {
          "base_uri": "https://localhost:8080/"
        },
        "id": "J9alcZG3G3-6",
        "outputId": "952f8c37-03c2-4623-bdb7-e220a2408913"
      },
      "outputs": [
        {
          "name": "stdout",
          "output_type": "stream",
          "text": [
            "[Errno 2] No such file or directory: 'meta-rl'\n",
            "/home/natha/meta-rl\n"
          ]
        },
        {
          "data": {
            "text/plain": [
              "'/home/natha/meta-rl'"
            ]
          },
          "execution_count": 2,
          "metadata": {},
          "output_type": "execute_result"
        }
      ],
      "source": [
        "#@title Change working directory to meta-rl.\n",
        "%cd meta-rl\n",
        "%pwd"
      ]
    },
    {
      "cell_type": "code",
      "execution_count": null,
      "metadata": {},
      "outputs": [],
      "source": [
        "#@title Install dependencies from `requirements.txt`.\n",
        "#!pip install -r requirements.txt"
      ]
    },
    {
      "cell_type": "code",
      "execution_count": 3,
      "metadata": {
        "id": "S-A9GZC4HauP"
      },
      "outputs": [],
      "source": [
        "#@title Import dependencies after install.\n",
        "\n",
        "import json\n",
        "import numpy as np\n",
        "import pickle\n",
        "\n",
        "import modules.envs as envs\n",
        "import modules.agents as agents\n",
        "import modules.loggers as loggers"
      ]
    },
    {
      "cell_type": "code",
      "execution_count": 4,
      "metadata": {
        "id": "j1TxsBVzG6wE"
      },
      "outputs": [],
      "source": [
        "#@title Import config for training.\n",
        "from configs.bandit_config_train import get_config\n",
        "\n",
        "config = get_config()\n",
        "json_config = json.loads(config.to_json_best_effort())"
      ]
    },
    {
      "cell_type": "code",
      "execution_count": null,
      "metadata": {
        "cellView": "form",
        "colab": {
          "base_uri": "https://localhost:8080/"
        },
        "id": "8de4ByRpK_1j",
        "outputId": "50c961ba-8f79-4756-d39d-5e2425a3ea83"
      },
      "outputs": [],
      "source": [
        "#@title Print loaded config.\n",
        "json_config"
      ]
    },
    {
      "cell_type": "code",
      "execution_count": null,
      "metadata": {
        "cellView": "form",
        "id": "Q5NX4ggfLGej"
      },
      "outputs": [],
      "source": [
        "#@title Modify config (optional).\n",
        "#@markdown Add as many lines as needed in the code here.\n",
        "config.update({'random_seed': 100})\n",
        "\n",
        "# Print to see changes\n",
        "json.loads(config.to_json_best_effort())"
      ]
    },
    {
      "cell_type": "markdown",
      "metadata": {
        "id": "2ldXLay6L1FU"
      },
      "source": [
        "# Training"
      ]
    },
    {
      "cell_type": "code",
      "execution_count": 8,
      "metadata": {
        "id": "2GjvnYCnLOK8"
      },
      "outputs": [],
      "source": [
        "#@title Unpack config.\n",
        "env_config = config.environment\n",
        "agent_config = config.agent\n",
        "random_seed = config.random_seed\n",
        "total_training_steps = config.agent.total_training_steps\n",
        "log_every_steps = config.log_every_steps\n",
        "params_filename = config.params_filename"
      ]
    },
    {
      "cell_type": "code",
      "execution_count": 9,
      "metadata": {
        "id": "CxRmJFHGMl-m"
      },
      "outputs": [],
      "source": [
        "#@title Set random seed.\n",
        "np.random.seed(random_seed)"
      ]
    },
    {
      "cell_type": "code",
      "execution_count": 9,
      "metadata": {
        "id": "QAUfl96lMZTT"
      },
      "outputs": [],
      "source": [
        "#@title Initialize environment.\n",
        "env = envs.create_env(env_config)\n",
        "observation = env.reset()"
      ]
    },
    {
      "cell_type": "code",
      "execution_count": 10,
      "metadata": {
        "colab": {
          "base_uri": "https://localhost:8080/"
        },
        "id": "V-yfq8qHMgG6",
        "outputId": "32185dd4-6622-4a66-8968-0799e1f56ce0"
      },
      "outputs": [
        {
          "name": "stderr",
          "output_type": "stream",
          "text": [
            "WARNING:jax._src.lib.xla_bridge:No GPU/TPU found, falling back to CPU. (Set TF_CPP_MIN_LOG_LEVEL=0 and rerun for more info.)\n"
          ]
        }
      ],
      "source": [
        "#@title Initialize agent.\n",
        "agent = agents.create_agent(\n",
        "    observation=observation,\n",
        "    num_actions=env.num_actions,\n",
        "    agent_config=agent_config)"
      ]
    },
    {
      "cell_type": "code",
      "execution_count": 11,
      "metadata": {
        "id": "BC74tFT0NrFJ"
      },
      "outputs": [],
      "source": [
        "#@title Initialize performance logger.\n",
        "logger = loggers.create_logger(logger_name='bandit', config=config, log_to_console=True)"
      ]
    },
    {
      "cell_type": "code",
      "execution_count": 12,
      "metadata": {
        "id": "bJ3jDrU8NVbb"
      },
      "outputs": [],
      "source": [
        "#@title Initialize LSTM recurrent state to zeros.\n",
        "initial_lstm_state = agent.get_initial_lstm_state()\n",
        "lstm_state = initial_lstm_state"
      ]
    },
    {
      "cell_type": "code",
      "execution_count": null,
      "metadata": {
        "colab": {
          "base_uri": "https://localhost:8080/"
        },
        "id": "C1vAQdgbNZ5R",
        "outputId": "97342b0f-c8d4-48bc-f6a4-9c4e692152b9"
      },
      "outputs": [],
      "source": [
        "#@title Main training loop (with default settings, will take ~4.5 hours).\n",
        "\n",
        "step, episode, loss = 0, 0, 0\n",
        "while step < total_training_steps:\n",
        "\n",
        "    # Get an action and step the environment with the agent's action\n",
        "    action, _, v_out, new_lstm_state, _ = agent.get_action(observation, lstm_state)\n",
        "    next_observation, reward, done, info = env.step(action)\n",
        "\n",
        "    # Save experience in a buffer\n",
        "    agent.buffer.append(\n",
        "        obs=observation,\n",
        "        action=action,\n",
        "        reward=reward,\n",
        "        next_obs=next_observation,\n",
        "        done=done,\n",
        "        lstm_state=lstm_state,\n",
        "    )\n",
        "\n",
        "    observation = next_observation\n",
        "    lstm_state = new_lstm_state\n",
        "\n",
        "    # Log performance\n",
        "    logger.log_step(\n",
        "        global_step=step,\n",
        "        worker_step=step,\n",
        "        reward=reward,\n",
        "        info=info,\n",
        "        loss=loss,\n",
        "        entropy_coef=agent.e_loss_coef,\n",
        "    )\n",
        "\n",
        "    # Update agent parameters if an episode is done, or\n",
        "    # if the agent experience buffer == max_unroll_steps\n",
        "    loss, grads, num_steps = agent.update(done, update_params=True)\n",
        "    step += 1\n",
        "\n",
        "    # If done, reset the environment and LSTM state\n",
        "    if done:\n",
        "        episode += 1\n",
        "        done = False\n",
        "        lstm_state = initial_lstm_state\n",
        "        observation = env.reset()\n",
        "\n",
        "print('Done training!')"
      ]
    },
    {
      "cell_type": "code",
      "execution_count": null,
      "metadata": {
        "id": "766CuUZKP1lk"
      },
      "outputs": [],
      "source": [
        "#@title Save model.\n",
        "results = {\n",
        "    \"params\": agent.params,\n",
        "    \"config\": config.to_dict(),\n",
        "}\n",
        "with open(params_filename + '.pickle', 'wb') as fp:\n",
        "    pickle.dump([results], fp)\n",
        "print(\"Saved parameters.\")"
      ]
    }
  ],
  "metadata": {
    "colab": {
      "include_colab_link": true,
      "provenance": []
    },
    "gpuClass": "standard",
    "kernelspec": {
      "display_name": "meta-rl-venv",
      "language": "python",
      "name": "python3"
    },
    "language_info": {
      "codemirror_mode": {
        "name": "ipython",
        "version": 3
      },
      "file_extension": ".py",
      "mimetype": "text/x-python",
      "name": "python",
      "nbconvert_exporter": "python",
      "pygments_lexer": "ipython3",
      "version": "3.9.16"
    },
    "orig_nbformat": 4,
    "vscode": {
      "interpreter": {
        "hash": "0e4463702277b73b75dad737c443b2ac1ecf2c3f192baf2a92474f48480d9455"
      }
    }
  },
  "nbformat": 4,
  "nbformat_minor": 0
}
