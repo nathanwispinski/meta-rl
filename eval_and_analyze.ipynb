{
  "nbformat": 4,
  "nbformat_minor": 0,
  "metadata": {
    "colab": {
      "provenance": [],
      "authorship_tag": "ABX9TyMJjPaI29YCfyYewxCsG6Ps",
      "include_colab_link": true
    },
    "kernelspec": {
      "name": "python3",
      "display_name": "Python 3"
    },
    "language_info": {
      "name": "python"
    }
  },
  "cells": [
    {
      "cell_type": "markdown",
      "metadata": {
        "id": "view-in-github",
        "colab_type": "text"
      },
      "source": [
        "<a href=\"https://colab.research.google.com/github/nathanwispinski/meta-rl/blob/main/eval_and_analyze.ipynb\" target=\"_parent\"><img src=\"https://colab.research.google.com/assets/colab-badge.svg\" alt=\"Open In Colab\"/></a>"
      ]
    },
    {
      "cell_type": "markdown",
      "source": [
        "# eval_and_analyze.ipynb\n",
        "\n",
        "This is a Google Colab notebook to demo model evaluation and analysis of a recurrent neural network in a two-armed bandit task using reinforcement learning.\n",
        "\n",
        "You can load your own `*.pickle` file generated from training, or use the provided `trained_agent.pickle` file.\n",
        "\n",
        "For more details, see the GitHub repository (https://github.com/nathanwispinski/meta-rl)."
      ],
      "metadata": {
        "id": "krddZGO8DjYD"
      }
    },
    {
      "cell_type": "markdown",
      "source": [
        "# Colab setup"
      ],
      "metadata": {
        "id": "O7cU8rD-D6PI"
      }
    },
    {
      "cell_type": "code",
      "source": [
        "#@title Clone GitHub repository.\n",
        "!git clone https://github.com/nathanwispinski/meta-rl"
      ],
      "metadata": {
        "colab": {
          "base_uri": "https://localhost:8080/"
        },
        "cellView": "form",
        "id": "pGkgcQwGD8gi",
        "outputId": "94557213-d944-4891-e7cf-88e8c7630932"
      },
      "execution_count": 1,
      "outputs": [
        {
          "output_type": "stream",
          "name": "stdout",
          "text": [
            "Cloning into 'meta-rl'...\n",
            "remote: Enumerating objects: 57, done.\u001b[K\n",
            "remote: Counting objects: 100% (57/57), done.\u001b[K\n",
            "remote: Compressing objects: 100% (44/44), done.\u001b[K\n",
            "remote: Total 57 (delta 22), reused 38 (delta 12), pack-reused 0\u001b[K\n",
            "Unpacking objects: 100% (57/57), 148.95 KiB | 556.00 KiB/s, done.\n"
          ]
        }
      ]
    },
    {
      "cell_type": "code",
      "source": [
        "#@title Change working directory to cloned repository (i.e., /content/meta-rl/).\n",
        "%cd meta-rl"
      ],
      "metadata": {
        "colab": {
          "base_uri": "https://localhost:8080/"
        },
        "cellView": "form",
        "id": "N5bjP_1zD2Zk",
        "outputId": "f3595e75-3a1e-42c7-877c-e8febe45bda2"
      },
      "execution_count": 2,
      "outputs": [
        {
          "output_type": "stream",
          "name": "stdout",
          "text": [
            "/content/meta-rl\n"
          ]
        }
      ]
    },
    {
      "cell_type": "code",
      "source": [
        "# @title Install dependencies from `requirements.txt`.\n",
        "!pip install -r requirements.txt"
      ],
      "metadata": {
        "colab": {
          "base_uri": "https://localhost:8080/",
          "height": 1000
        },
        "cellView": "form",
        "id": "FHd8LbgVEAXD",
        "outputId": "05bd89b4-eb43-436d-90dc-974fdf2cd27d"
      },
      "execution_count": 3,
      "outputs": [
        {
          "output_type": "stream",
          "name": "stdout",
          "text": [
            "Looking in indexes: https://pypi.org/simple, https://us-python.pkg.dev/colab-wheels/public/simple/\n",
            "Collecting absl_py==1.3.0\n",
            "  Downloading absl_py-1.3.0-py3-none-any.whl (124 kB)\n",
            "\u001b[2K     \u001b[90m━━━━━━━━━━━━━━━━━━━━━━━━━━━━━━━━━━━━━━━\u001b[0m \u001b[32m124.6/124.6 KB\u001b[0m \u001b[31m1.5 MB/s\u001b[0m eta \u001b[36m0:00:00\u001b[0m\n",
            "\u001b[?25hCollecting chex==0.1.5\n",
            "  Downloading chex-0.1.5-py3-none-any.whl (85 kB)\n",
            "\u001b[2K     \u001b[90m━━━━━━━━━━━━━━━━━━━━━━━━━━━━━━━━━━━━━━━━\u001b[0m \u001b[32m85.3/85.3 KB\u001b[0m \u001b[31m4.9 MB/s\u001b[0m eta \u001b[36m0:00:00\u001b[0m\n",
            "\u001b[?25hCollecting dm_haiku==0.0.9\n",
            "  Downloading dm_haiku-0.0.9-py3-none-any.whl (352 kB)\n",
            "\u001b[2K     \u001b[90m━━━━━━━━━━━━━━━━━━━━━━━━━━━━━━━━━━━━━━━\u001b[0m \u001b[32m352.1/352.1 KB\u001b[0m \u001b[31m5.3 MB/s\u001b[0m eta \u001b[36m0:00:00\u001b[0m\n",
            "\u001b[?25hCollecting jax==0.3.25\n",
            "  Downloading jax-0.3.25.tar.gz (1.1 MB)\n",
            "\u001b[2K     \u001b[90m━━━━━━━━━━━━━━━━━━━━━━━━━━━━━━━━━━━━━━━━\u001b[0m \u001b[32m1.1/1.1 MB\u001b[0m \u001b[31m16.4 MB/s\u001b[0m eta \u001b[36m0:00:00\u001b[0m\n",
            "\u001b[?25h  Preparing metadata (setup.py) ... \u001b[?25l\u001b[?25hdone\n",
            "Collecting jaxlib==0.3.25\n",
            "  Downloading jaxlib-0.3.25-cp38-cp38-manylinux2014_x86_64.whl (71.2 MB)\n",
            "\u001b[2K     \u001b[90m━━━━━━━━━━━━━━━━━━━━━━━━━━━━━━━━━━━━━━━━\u001b[0m \u001b[32m71.2/71.2 MB\u001b[0m \u001b[31m9.0 MB/s\u001b[0m eta \u001b[36m0:00:00\u001b[0m\n",
            "\u001b[?25hCollecting matplotlib==3.6.2\n",
            "  Downloading matplotlib-3.6.2-cp38-cp38-manylinux_2_12_x86_64.manylinux2010_x86_64.whl (9.4 MB)\n",
            "\u001b[2K     \u001b[90m━━━━━━━━━━━━━━━━━━━━━━━━━━━━━━━━━━━━━━━━\u001b[0m \u001b[32m9.4/9.4 MB\u001b[0m \u001b[31m13.7 MB/s\u001b[0m eta \u001b[36m0:00:00\u001b[0m\n",
            "\u001b[?25hCollecting ml_collections==0.1.1\n",
            "  Downloading ml_collections-0.1.1.tar.gz (77 kB)\n",
            "\u001b[2K     \u001b[90m━━━━━━━━━━━━━━━━━━━━━━━━━━━━━━━━━━━━━━━━\u001b[0m \u001b[32m77.9/77.9 KB\u001b[0m \u001b[31m5.2 MB/s\u001b[0m eta \u001b[36m0:00:00\u001b[0m\n",
            "\u001b[?25h  Preparing metadata (setup.py) ... \u001b[?25l\u001b[?25hdone\n",
            "Requirement already satisfied: numpy==1.22.4 in /usr/local/lib/python3.8/dist-packages (from -r requirements.txt (line 8)) (1.22.4)\n",
            "Collecting optax==0.1.4\n",
            "  Downloading optax-0.1.4-py3-none-any.whl (154 kB)\n",
            "\u001b[2K     \u001b[90m━━━━━━━━━━━━━━━━━━━━━━━━━━━━━━━━━━━━━━━\u001b[0m \u001b[32m154.9/154.9 KB\u001b[0m \u001b[31m2.0 MB/s\u001b[0m eta \u001b[36m0:00:00\u001b[0m\n",
            "\u001b[?25hCollecting rlax==0.1.4\n",
            "  Downloading rlax-0.1.4-py3-none-any.whl (128 kB)\n",
            "\u001b[2K     \u001b[90m━━━━━━━━━━━━━━━━━━━━━━━━━━━━━━━━━━━━━━━\u001b[0m \u001b[32m128.7/128.7 KB\u001b[0m \u001b[31m6.6 MB/s\u001b[0m eta \u001b[36m0:00:00\u001b[0m\n",
            "\u001b[?25hCollecting scipy==1.9.3\n",
            "  Downloading scipy-1.9.3-cp38-cp38-manylinux_2_17_x86_64.manylinux2014_x86_64.whl (33.8 MB)\n",
            "\u001b[2K     \u001b[90m━━━━━━━━━━━━━━━━━━━━━━━━━━━━━━━━━━━━━━━━\u001b[0m \u001b[32m33.8/33.8 MB\u001b[0m \u001b[31m7.4 MB/s\u001b[0m eta \u001b[36m0:00:00\u001b[0m\n",
            "\u001b[?25hRequirement already satisfied: dm-tree>=0.1.5 in /usr/local/lib/python3.8/dist-packages (from chex==0.1.5->-r requirements.txt (line 2)) (0.1.8)\n",
            "Requirement already satisfied: toolz>=0.9.0 in /usr/local/lib/python3.8/dist-packages (from chex==0.1.5->-r requirements.txt (line 2)) (0.12.0)\n",
            "Requirement already satisfied: tabulate>=0.8.9 in /usr/local/lib/python3.8/dist-packages (from dm_haiku==0.0.9->-r requirements.txt (line 3)) (0.8.10)\n",
            "Collecting jmp>=0.0.2\n",
            "  Downloading jmp-0.0.4-py3-none-any.whl (18 kB)\n",
            "Requirement already satisfied: opt_einsum in /usr/local/lib/python3.8/dist-packages (from jax==0.3.25->-r requirements.txt (line 4)) (3.3.0)\n",
            "Requirement already satisfied: typing_extensions in /usr/local/lib/python3.8/dist-packages (from jax==0.3.25->-r requirements.txt (line 4)) (4.5.0)\n",
            "Requirement already satisfied: pillow>=6.2.0 in /usr/local/lib/python3.8/dist-packages (from matplotlib==3.6.2->-r requirements.txt (line 6)) (8.4.0)\n",
            "Requirement already satisfied: cycler>=0.10 in /usr/local/lib/python3.8/dist-packages (from matplotlib==3.6.2->-r requirements.txt (line 6)) (0.11.0)\n",
            "Requirement already satisfied: python-dateutil>=2.7 in /usr/local/lib/python3.8/dist-packages (from matplotlib==3.6.2->-r requirements.txt (line 6)) (2.8.2)\n",
            "Requirement already satisfied: packaging>=20.0 in /usr/local/lib/python3.8/dist-packages (from matplotlib==3.6.2->-r requirements.txt (line 6)) (23.0)\n",
            "Requirement already satisfied: kiwisolver>=1.0.1 in /usr/local/lib/python3.8/dist-packages (from matplotlib==3.6.2->-r requirements.txt (line 6)) (1.4.4)\n",
            "Requirement already satisfied: fonttools>=4.22.0 in /usr/local/lib/python3.8/dist-packages (from matplotlib==3.6.2->-r requirements.txt (line 6)) (4.38.0)\n",
            "Requirement already satisfied: pyparsing>=2.2.1 in /usr/local/lib/python3.8/dist-packages (from matplotlib==3.6.2->-r requirements.txt (line 6)) (3.0.9)\n",
            "Collecting contourpy>=1.0.1\n",
            "  Downloading contourpy-1.0.7-cp38-cp38-manylinux_2_17_x86_64.manylinux2014_x86_64.whl (300 kB)\n",
            "\u001b[2K     \u001b[90m━━━━━━━━━━━━━━━━━━━━━━━━━━━━━━━━━━━━━━━\u001b[0m \u001b[32m300.0/300.0 KB\u001b[0m \u001b[31m5.0 MB/s\u001b[0m eta \u001b[36m0:00:00\u001b[0m\n",
            "\u001b[?25hRequirement already satisfied: PyYAML in /usr/local/lib/python3.8/dist-packages (from ml_collections==0.1.1->-r requirements.txt (line 7)) (6.0)\n",
            "Requirement already satisfied: six in /usr/local/lib/python3.8/dist-packages (from ml_collections==0.1.1->-r requirements.txt (line 7)) (1.15.0)\n",
            "Requirement already satisfied: contextlib2 in /usr/local/lib/python3.8/dist-packages (from ml_collections==0.1.1->-r requirements.txt (line 7)) (0.5.5)\n",
            "Collecting distrax>=0.0.2\n",
            "  Downloading distrax-0.1.3-py3-none-any.whl (317 kB)\n",
            "\u001b[2K     \u001b[90m━━━━━━━━━━━━━━━━━━━━━━━━━━━━━━━━━━━━━━━\u001b[0m \u001b[32m318.0/318.0 KB\u001b[0m \u001b[31m5.3 MB/s\u001b[0m eta \u001b[36m0:00:00\u001b[0m\n",
            "\u001b[?25hCollecting dm-env\n",
            "  Downloading dm_env-1.6-py3-none-any.whl (26 kB)\n",
            "Requirement already satisfied: tensorflow-probability>=0.15.0 in /usr/local/lib/python3.8/dist-packages (from distrax>=0.0.2->rlax==0.1.4->-r requirements.txt (line 10)) (0.19.0)\n",
            "Requirement already satisfied: cloudpickle>=1.3 in /usr/local/lib/python3.8/dist-packages (from tensorflow-probability>=0.15.0->distrax>=0.0.2->rlax==0.1.4->-r requirements.txt (line 10)) (2.2.1)\n",
            "Requirement already satisfied: decorator in /usr/local/lib/python3.8/dist-packages (from tensorflow-probability>=0.15.0->distrax>=0.0.2->rlax==0.1.4->-r requirements.txt (line 10)) (4.4.2)\n",
            "Requirement already satisfied: gast>=0.3.2 in /usr/local/lib/python3.8/dist-packages (from tensorflow-probability>=0.15.0->distrax>=0.0.2->rlax==0.1.4->-r requirements.txt (line 10)) (0.4.0)\n",
            "Building wheels for collected packages: jax, ml_collections\n",
            "  Building wheel for jax (setup.py) ... \u001b[?25l\u001b[?25hdone\n",
            "  Created wheel for jax: filename=jax-0.3.25-py3-none-any.whl size=1308510 sha256=e00885a564a877034ca4197abcc85b29769dc867c4c7a1f9135e4f04ec723f9b\n",
            "  Stored in directory: /root/.cache/pip/wheels/ac/cc/1f/327114e0ec22ee90b4db16c01e1fc843883e18501098a7bbec\n",
            "  Building wheel for ml_collections (setup.py) ... \u001b[?25l\u001b[?25hdone\n",
            "  Created wheel for ml_collections: filename=ml_collections-0.1.1-py3-none-any.whl size=94524 sha256=941f6fdcab2e8428f47f67b4453782c2d15c506b31d3ce15844f9eea500b2977\n",
            "  Stored in directory: /root/.cache/pip/wheels/6d/9f/a9/9e8309035a5bf09ed9086bbca8c9b74cb6413d3eb203e2bc8c\n",
            "Successfully built jax ml_collections\n",
            "Installing collected packages: scipy, jmp, contourpy, absl_py, ml_collections, matplotlib, jaxlib, jax, dm_haiku, dm-env, chex, optax, distrax, rlax\n",
            "  Attempting uninstall: scipy\n",
            "    Found existing installation: scipy 1.7.3\n",
            "    Uninstalling scipy-1.7.3:\n",
            "      Successfully uninstalled scipy-1.7.3\n",
            "  Attempting uninstall: absl_py\n",
            "    Found existing installation: absl-py 1.4.0\n",
            "    Uninstalling absl-py-1.4.0:\n",
            "      Successfully uninstalled absl-py-1.4.0\n",
            "  Attempting uninstall: matplotlib\n",
            "    Found existing installation: matplotlib 3.5.3\n",
            "    Uninstalling matplotlib-3.5.3:\n",
            "      Successfully uninstalled matplotlib-3.5.3\n",
            "  Attempting uninstall: jaxlib\n",
            "    Found existing installation: jaxlib 0.4.4+cuda11.cudnn82\n",
            "    Uninstalling jaxlib-0.4.4+cuda11.cudnn82:\n",
            "      Successfully uninstalled jaxlib-0.4.4+cuda11.cudnn82\n",
            "  Attempting uninstall: jax\n",
            "    Found existing installation: jax 0.4.4\n",
            "    Uninstalling jax-0.4.4:\n",
            "      Successfully uninstalled jax-0.4.4\n",
            "Successfully installed absl_py-1.3.0 chex-0.1.5 contourpy-1.0.7 distrax-0.1.3 dm-env-1.6 dm_haiku-0.0.9 jax-0.3.25 jaxlib-0.3.25 jmp-0.0.4 matplotlib-3.6.2 ml_collections-0.1.1 optax-0.1.4 rlax-0.1.4 scipy-1.9.3\n"
          ]
        },
        {
          "output_type": "display_data",
          "data": {
            "application/vnd.colab-display-data+json": {
              "pip_warning": {
                "packages": [
                  "matplotlib",
                  "mpl_toolkits"
                ]
              }
            }
          },
          "metadata": {}
        }
      ]
    },
    {
      "cell_type": "markdown",
      "source": [
        "# Import dependencies"
      ],
      "metadata": {
        "id": "F7OsfWxvEBxf"
      }
    },
    {
      "cell_type": "code",
      "source": [
        "#@title Import dependencies after install.\n",
        "import pickle\n",
        "import numpy as np\n",
        "import matplotlib\n",
        "import matplotlib.pyplot as plt\n",
        "import matplotlib.patches as mpatches\n",
        "\n",
        "import modules.envs as envs\n",
        "import modules.agents as agents"
      ],
      "metadata": {
        "cellView": "form",
        "id": "Gg37yqjjED9-"
      },
      "execution_count": 4,
      "outputs": []
    },
    {
      "cell_type": "markdown",
      "source": [
        "# Load trained agent"
      ],
      "metadata": {
        "id": "6Sy06wEdEJnK"
      }
    },
    {
      "cell_type": "code",
      "source": [
        "#@title Load trained agent (your own file, or the provided `trained_agent.pickle` file).\n",
        "path = \"./\" #@param {type:\"string\"}\n",
        "filename = \"trained_agent.pickle\" #@param {type:\"string\"}"
      ],
      "metadata": {
        "cellView": "form",
        "id": "FVsAq1bUEFOt"
      },
      "execution_count": 5,
      "outputs": []
    },
    {
      "cell_type": "code",
      "source": [
        "#@title Load trained agent with pickle.\n",
        "with open(path + filename, 'rb') as fp:\n",
        "    training_results = pickle.load(fp)"
      ],
      "metadata": {
        "colab": {
          "base_uri": "https://localhost:8080/"
        },
        "cellView": "form",
        "id": "0UKJH4q8EY28",
        "outputId": "368b2644-f159-4f36-a964-c1b5a86498a7"
      },
      "execution_count": 6,
      "outputs": [
        {
          "output_type": "stream",
          "name": "stderr",
          "text": [
            "WARNING:jax._src.lib.xla_bridge:No GPU/TPU found, falling back to CPU. (Set TF_CPP_MIN_LOG_LEVEL=0 and rerun for more info.)\n"
          ]
        }
      ]
    },
    {
      "cell_type": "code",
      "source": [
        "#@title Unpack pickle file.\n",
        "params = training_results[0]['params']\n",
        "training_config = training_results[0]['config']\n",
        "agent_config = training_config['agent']\n"
      ],
      "metadata": {
        "cellView": "form",
        "id": "JewwbHcgEqDF"
      },
      "execution_count": 7,
      "outputs": []
    },
    {
      "cell_type": "markdown",
      "source": [
        "# Evaluation"
      ],
      "metadata": {
        "id": "yq64NhM3Et3c"
      }
    },
    {
      "cell_type": "code",
      "source": [
        "#@title Initialize evaluation environment.\n",
        "env = envs.BanditEnv(\n",
        "    steps_per_episode=100,\n",
        "    num_arms=2,\n",
        "    reward_structure=\"correlated\",\n",
        "    )\n",
        "observation = env.reset()"
      ],
      "metadata": {
        "cellView": "form",
        "id": "WAV5KlsNEu89"
      },
      "execution_count": 8,
      "outputs": []
    },
    {
      "cell_type": "code",
      "source": [
        "#@title Initialize agent.\n",
        "agent = agents.create_agent(\n",
        "    agent_config=agent_config,\n",
        "    observation=observation,\n",
        "    num_actions=env.num_actions,\n",
        ")"
      ],
      "metadata": {
        "cellView": "form",
        "id": "AYlckKiKE5EL"
      },
      "execution_count": 9,
      "outputs": []
    },
    {
      "cell_type": "code",
      "source": [
        "#@title Setup initial LSTM memory state.\n",
        "initial_lstm_state = agent.get_initial_lstm_state()\n",
        "lstm_state = initial_lstm_state"
      ],
      "metadata": {
        "cellView": "form",
        "id": "_TtvzDmHE8E9"
      },
      "execution_count": 10,
      "outputs": []
    },
    {
      "cell_type": "code",
      "source": [
        "#@title # Overwrite agent paramters with saved training parameters.\n",
        "agent.params = params"
      ],
      "metadata": {
        "cellView": "form",
        "id": "b0Lpus7IFAje"
      },
      "execution_count": 11,
      "outputs": []
    },
    {
      "cell_type": "code",
      "source": [
        "#@title Setup evaluation episodes to test the agent on.\n",
        "\n",
        "# Make evaluation episodes\n",
        "arm1_probs = np.arange(101)/100\n",
        "arm2_probs = 1. - arm1_probs\n",
        "\n",
        "eval_episodes = np.arange(len(arm1_probs))\n",
        "\n",
        "# Initialize data to save\n",
        "eval_actions = np.zeros((len(arm1_probs), env._steps_per_episode))\n",
        "eval_actions[:] = np.nan"
      ],
      "metadata": {
        "cellView": "form",
        "id": "F5JqrjGOFEyG"
      },
      "execution_count": 12,
      "outputs": []
    },
    {
      "cell_type": "code",
      "source": [
        "#@title Evaluation loop.\n",
        "for (arm1_prob, arm2_prob, ep) in zip(arm1_probs, arm2_probs, eval_episodes):\n",
        "    \n",
        "    step = 0\n",
        "    done = False\n",
        "    lstm_state = initial_lstm_state\n",
        "    observation = env.reset(arm_probs=np.array([arm1_prob, arm2_prob]))\n",
        "    \n",
        "    while not done:\n",
        "\n",
        "        action, pi_out, v_out, new_lstm_state, _ = agent.get_action(observation, lstm_state)\n",
        "        next_observation, reward, done, info = env.step(action)\n",
        "\n",
        "        # Save data\n",
        "        eval_actions[ep, step] = action\n",
        "\n",
        "        observation = next_observation\n",
        "        lstm_state = new_lstm_state\n",
        "        step += 1\n",
        "\n",
        "print(\"Done evaluation.\")"
      ],
      "metadata": {
        "colab": {
          "base_uri": "https://localhost:8080/"
        },
        "cellView": "form",
        "id": "-ggLxtaOFNXP",
        "outputId": "ec30fa6e-2016-4dc1-829f-c8780a5f0c8a"
      },
      "execution_count": 13,
      "outputs": [
        {
          "output_type": "stream",
          "name": "stdout",
          "text": [
            "Done evaluation.\n"
          ]
        }
      ]
    },
    {
      "cell_type": "markdown",
      "source": [
        "# Analysis"
      ],
      "metadata": {
        "id": "xs8QWVkmFSJ2"
      }
    },
    {
      "cell_type": "code",
      "source": [
        "#@title Figure parameters.\n",
        "tick_fontsize = 16\n",
        "label_fontsize = 20"
      ],
      "metadata": {
        "cellView": "form",
        "id": "Bw6XAfFEFTFp"
      },
      "execution_count": 14,
      "outputs": []
    },
    {
      "cell_type": "code",
      "source": [
        "#@title Setup y tick labels to convey arm win probabilities.\n",
        "ytick_vals = [0, eval_episodes[int(len(eval_episodes)/2)], eval_episodes[-1]]\n",
        "ytick_labels = []\n",
        "for i in ytick_vals:\n",
        "    cur_probs = str(int(arm1_probs[i]*100)) + \", \" + str(int(arm2_probs[i]*100))\n",
        "    ytick_labels.append(cur_probs)"
      ],
      "metadata": {
        "cellView": "form",
        "id": "oGYI4jVxFYps"
      },
      "execution_count": 15,
      "outputs": []
    },
    {
      "cell_type": "code",
      "source": [
        "#@title Setup custom legend.\n",
        "cmap_name = 'tab20c'\n",
        "cmap = matplotlib.cm.get_cmap(cmap_name)\n",
        "zero_color = cmap(0.)\n",
        "one_color = cmap(1.)\n",
        "patch1 = mpatches.Patch(color=zero_color, label='Arm 1')\n",
        "patch2 = mpatches.Patch(color=one_color, label='Arm 2')"
      ],
      "metadata": {
        "cellView": "form",
        "id": "VMtKTmqiFcm8"
      },
      "execution_count": 16,
      "outputs": []
    },
    {
      "cell_type": "code",
      "source": [
        "#@title Define plotting function.\n",
        "\n",
        "def plot_action_results(data):\n",
        "    fig = plt.figure(figsize=(8, 6))\n",
        "    ax = plt.subplot()\n",
        "    plt.imshow(data, cmap='tab20c', origin='lower')\n",
        "    plt.yticks(\n",
        "        ticks=ytick_vals,\n",
        "        labels=ytick_labels,\n",
        "        fontsize=tick_fontsize,\n",
        "        )\n",
        "    plt.xticks(\n",
        "        ticks=[0, env._steps_per_episode],\n",
        "        labels=[0, env._steps_per_episode],\n",
        "        fontsize=tick_fontsize,\n",
        "        )\n",
        "    plt.xlabel(\"Trials\", fontsize=label_fontsize)\n",
        "    plt.ylabel(\"Arm win probabilities \\n (Arm 1 %, Arm 2 %)\", fontsize=label_fontsize)\n",
        "    ax.spines[['right', 'top']].set_visible(False)\n",
        "    plt.legend(handles=[patch1, patch2],\n",
        "              loc='center left',\n",
        "              bbox_to_anchor=(1, 0.5),\n",
        "              frameon=False,\n",
        "              fontsize=label_fontsize,\n",
        "              borderaxespad=0.,\n",
        "              )\n",
        "    plt.tight_layout()\n",
        "    plt.show()"
      ],
      "metadata": {
        "cellView": "form",
        "id": "4e7MoKqCHJ2x"
      },
      "execution_count": 17,
      "outputs": []
    },
    {
      "cell_type": "code",
      "source": [
        "#@title Plot action results from our trained reinforcement learning model.\n",
        "plot_action_results(eval_actions)\n"
      ],
      "metadata": {
        "colab": {
          "base_uri": "https://localhost:8080/",
          "height": 441
        },
        "cellView": "form",
        "id": "tuNHnoCBFgBM",
        "outputId": "70fef2a7-2c3c-46ec-d8de-d9cc131bc5b0"
      },
      "execution_count": 18,
      "outputs": [
        {
          "output_type": "display_data",
          "data": {
            "text/plain": [
              "<Figure size 576x432 with 1 Axes>"
            ],
            "image/png": "[encoded data removed]"
          },
          "metadata": {
            "needs_background": "light"
          }
        }
      ]
    },
    {
      "cell_type": "markdown",
      "source": [
        "# Other models\n",
        "\n",
        "We can also plot a completely random agent, and an agent with insider knowledge about the arm win probabilities, for completeness."
      ],
      "metadata": {
        "id": "IwWwHrCsHkPc"
      }
    },
    {
      "cell_type": "code",
      "source": [
        "#@title Plot action results from a random model.\n",
        "\n",
        "random_actions = np.random.randint(low=0, high=2, size=np.shape(eval_actions))\n",
        "\n",
        "plot_action_results(random_actions)\n"
      ],
      "metadata": {
        "colab": {
          "base_uri": "https://localhost:8080/",
          "height": 441
        },
        "cellView": "form",
        "id": "OssoysiqFx5P",
        "outputId": "e5a9a666-8d06-442a-d0f9-2f031a70a2ff"
      },
      "execution_count": 19,
      "outputs": [
        {
          "output_type": "display_data",
          "data": {
            "text/plain": [
              "<Figure size 576x432 with 1 Axes>"
            ],
            "image/png": "[encoded data removed]"
          },
          "metadata": {
            "needs_background": "light"
          }
        }
      ]
    },
    {
      "cell_type": "code",
      "source": [
        "#@title Plot action results from a model with insider knowledge.\n",
        "\n",
        "# Initialize data\n",
        "insider_actions = np.zeros((len(arm1_probs), env._steps_per_episode))\n",
        "insider_actions[:] = np.nan\n",
        "\n",
        "for (arm1_prob, arm2_prob, ep) in zip(arm1_probs, arm2_probs, eval_episodes):\n",
        "    if arm1_prob > arm2_prob:\n",
        "        actions = np.zeros(env._steps_per_episode)\n",
        "    elif arm1_prob == arm2_prob:\n",
        "        actions = np.random.randint(low=0, high=2, size=env._steps_per_episode)\n",
        "    else:\n",
        "        actions = np.ones(env._steps_per_episode)\n",
        "    insider_actions[ep, :] = actions\n",
        "\n",
        "plot_action_results(insider_actions)"
      ],
      "metadata": {
        "colab": {
          "base_uri": "https://localhost:8080/",
          "height": 441
        },
        "cellView": "form",
        "id": "K-Ybz0ITHyHU",
        "outputId": "65f79538-37b6-46e8-eedf-c172575249a7"
      },
      "execution_count": 20,
      "outputs": [
        {
          "output_type": "display_data",
          "data": {
            "text/plain": [
              "<Figure size 576x432 with 1 Axes>"
            ],
            "image/png": "[encoded data removed]"
          },
          "metadata": {
            "needs_background": "light"
          }
        }
      ]
    }
  ]
}