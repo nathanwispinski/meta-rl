{
  "cells": [
    {
      "attachments": {},
      "cell_type": "markdown",
      "metadata": {
        "colab_type": "text",
        "id": "view-in-github"
      },
      "source": [
        "<a href=\"https://colab.research.google.com/github/nathanwispinski/meta-rl/blob/main/play_env_as_human.ipynb\" target=\"_parent\"><img src=\"https://colab.research.google.com/assets/colab-badge.svg\" alt=\"Open In Colab\"/></a>"
      ]
    },
    {
      "attachments": {},
      "cell_type": "markdown",
      "metadata": {
        "id": "aVhgAnD5gFGy"
      },
      "source": [
        "# play_env_as_human.ipynb\n",
        "\n",
        "This is a Google Colab notebook to demo the meta-rl multi-armed bandit environment.\n",
        "\n",
        "See the [meta-rl Github repo](https://github.com/nathanwispinski/meta-rl/).\n",
        "\n",
        "For any questions, contact nathan3@ualberta.ca."
      ]
    },
    {
      "cell_type": "markdown",
      "metadata": {
        "id": "mHdmWcLfgRhb"
      },
      "source": [
        "# Setup"
      ]
    },
    {
      "cell_type": "code",
      "execution_count": 1,
      "metadata": {
        "cellView": "form",
        "colab": {
          "base_uri": "https://localhost:8080/"
        },
        "id": "s2b7V7RjgVuH",
        "outputId": "d89cf8ad-a105-4b81-fac6-e200a0d47735"
      },
      "outputs": [
        {
          "name": "stdout",
          "output_type": "stream",
          "text": [
            "[Errno 2] No such file or directory: 'meta-rl'\n",
            "/home/natha/meta-rl\n"
          ]
        },
        {
          "data": {
            "text/plain": [
              "'/home/natha/meta-rl'"
            ]
          },
          "execution_count": 1,
          "metadata": {},
          "output_type": "execute_result"
        }
      ],
      "source": [
        "#@title Change working directory to meta-rl.\n",
        "%cd meta-rl\n",
        "%pwd"
      ]
    },
    {
      "cell_type": "code",
      "execution_count": 2,
      "metadata": {
        "cellView": "form",
        "id": "kkmdPgMYgXoD"
      },
      "outputs": [
        {
          "ename": "ModuleNotFoundError",
          "evalue": "No module named 'ipywidgets'",
          "output_type": "error",
          "traceback": [
            "\u001b[0;31m---------------------------------------------------------------------------\u001b[0m",
            "\u001b[0;31mModuleNotFoundError\u001b[0m                       Traceback (most recent call last)",
            "Cell \u001b[0;32mIn[2], line 5\u001b[0m\n\u001b[1;32m      3\u001b[0m \u001b[39mimport\u001b[39;00m \u001b[39mtime\u001b[39;00m\n\u001b[1;32m      4\u001b[0m \u001b[39mfrom\u001b[39;00m \u001b[39mIPython\u001b[39;00m\u001b[39m.\u001b[39;00m\u001b[39mdisplay\u001b[39;00m \u001b[39mimport\u001b[39;00m display, clear_output\n\u001b[0;32m----> 5\u001b[0m \u001b[39mimport\u001b[39;00m \u001b[39mipywidgets\u001b[39;00m \u001b[39mas\u001b[39;00m \u001b[39mwidgets\u001b[39;00m\n",
            "\u001b[0;31mModuleNotFoundError\u001b[0m: No module named 'ipywidgets'"
          ]
        }
      ],
      "source": [
        "#@title Import external dependencies.\n",
        "import numpy as np\n",
        "import time\n",
        "from IPython.display import display, clear_output\n",
        "import ipywidgets as widgets"
      ]
    },
    {
      "cell_type": "code",
      "execution_count": 3,
      "metadata": {
        "cellView": "form",
        "id": "lkJzABqngaV6"
      },
      "outputs": [],
      "source": [
        "#@title Import environment.\n",
        "import modules.envs as envs"
      ]
    },
    {
      "cell_type": "code",
      "execution_count": 4,
      "metadata": {
        "id": "f_0q4wR2gd6B"
      },
      "outputs": [],
      "source": [
        "#@title Create a config for the environment.\n",
        "#@markdown Available `reward_structure` configs are: `independent`, and `correlated`.\n",
        "\n",
        "env_config = {\n",
        "    \"steps_per_episode\": 10,\n",
        "    \"num_arms\": 2,\n",
        "    \"reward_structure\": \"independent\",\n",
        "}\n",
        "\n",
        "total_episodes = 10"
      ]
    },
    {
      "cell_type": "code",
      "execution_count": 7,
      "metadata": {
        "cellView": "form",
        "id": "VakNQGzvlnvc"
      },
      "outputs": [],
      "source": [
        "#@title Create environment.\n",
        "env = envs.create_env(env_config=env_config)\n",
        "valid_action_range = np.arange(env.num_actions)\n",
        "observation = env.reset()"
      ]
    },
    {
      "cell_type": "markdown",
      "metadata": {
        "id": "8atWqT0agqqw"
      },
      "source": [
        "# Play"
      ]
    },
    {
      "cell_type": "code",
      "execution_count": 8,
      "metadata": {
        "cellView": "form",
        "colab": {
          "base_uri": "https://localhost:8080/",
          "height": 790,
          "referenced_widgets": [
            "cf529089ffe84df98191aef9da12f3d5",
            "b8048f0744134d228b3101b62820f600",
            "8cc761a2f7e64053b3ea7f75a0fe5d23",
            "09ff99702f064674ad160fa7224c1a88",
            "3a3a468244f4488d8c2148e221c39b5e",
            "9b1e105d4bd54ed890bec686cc7ba43b",
            "69bdf723814344d489d07a9486e35d5d",
            "cd40659571d845c69d4c1785ded5f733",
            "e6e148fdc84d4899a39b74897edb6567",
            "3763457149b242a089f282c230b763f7",
            "d3615f0f7490461381a7a6fcea090e37"
          ]
        },
        "id": "Nr-gndzWigKG",
        "outputId": "6fe034b1-f243-4660-8d5d-5588111b0908"
      },
      "outputs": [
        {
          "ename": "NameError",
          "evalue": "name 'widgets' is not defined",
          "output_type": "error",
          "traceback": [
            "\u001b[0;31m---------------------------------------------------------------------------\u001b[0m",
            "\u001b[0;31mNameError\u001b[0m                                 Traceback (most recent call last)",
            "Cell \u001b[0;32mIn[8], line 3\u001b[0m\n\u001b[1;32m      1\u001b[0m \u001b[39m#@title Play environment as a human.\u001b[39;00m\n\u001b[0;32m----> 3\u001b[0m output \u001b[39m=\u001b[39m widgets\u001b[39m.\u001b[39mOutput()\n\u001b[1;32m      5\u001b[0m \u001b[39m# Make one button per bandit arm\u001b[39;00m\n\u001b[1;32m      6\u001b[0m num_arms \u001b[39m=\u001b[39m env_config[\u001b[39m'\u001b[39m\u001b[39mnum_arms\u001b[39m\u001b[39m'\u001b[39m]\n",
            "\u001b[0;31mNameError\u001b[0m: name 'widgets' is not defined"
          ]
        }
      ],
      "source": [
        "#@title Play environment as a human.\n",
        "\n",
        "output = widgets.Output()\n",
        "\n",
        "# Make one button per bandit arm\n",
        "num_arms = env_config['num_arms']\n",
        "buttons = []\n",
        "click_fns = []\n",
        "for i in range(num_arms):\n",
        "    arm_name = \"Arm \" + (i + 1)\n",
        "    button = widgets.Button(description=arm_name)\n",
        "    def button_click(a=i):\n",
        "        next_observation, reward, done, info = env.step(a)\n",
        "        step = interactive_info['step']\n",
        "        print(f'Step: {step}; Action: {a}; Reward: {reward}; {next_observation}')\n",
        "        interactive_info['step'] += 1\n",
        "        interactive_info['observation'] = next_observation\n",
        "        if done:\n",
        "            print(f'arm_probs: {env._arm_probs}')\n",
        "            env.reset()\n",
        "    buttons.append(button)\n",
        "    click_fns.append(button_click)\n",
        "\n",
        "for (button, click_fn) in zip(buttons, click_fns):\n",
        "    button.on_click(click_fn)\n",
        "\n",
        "# Make a clear history button\n",
        "button_0 = widgets.Button(description=\"Clear history\")\n",
        "def button_0_click(b):\n",
        "    clear_output()\n",
        "    # display(button_0, button_1, button_2, output)\n",
        "button_0.on_click(button_0_click)\n",
        "\n",
        "interactive_info = {\n",
        "    'step': 0,\n",
        "    'observation': None,\n",
        "    'next_observation': None,\n",
        "    'reward': None,\n",
        "    'done': None,\n",
        "    'info': None,\n",
        "    'action': None\n",
        "    }\n",
        "\n",
        "buttons.append(button_0)\n",
        "buttons.append(output)\n",
        "\n",
        "display(**buttons)\n",
        "\n",
        "interactive_info['observation'] = env.reset()\n",
        "print(interactive_info['observation'])\n"
      ]
    }
  ],
  "metadata": {
    "colab": {
      "include_colab_link": true,
      "provenance": []
    },
    "gpuClass": "standard",
    "kernelspec": {
      "display_name": "meta-rl-venv",
      "language": "python",
      "name": "python3"
    },
    "language_info": {
      "codemirror_mode": {
        "name": "ipython",
        "version": 3
      },
      "file_extension": ".py",
      "mimetype": "text/x-python",
      "name": "python",
      "nbconvert_exporter": "python",
      "pygments_lexer": "ipython3",
      "version": "3.9.16"
    },
    "orig_nbformat": 4,
    "vscode": {
      "interpreter": {
        "hash": "0e4463702277b73b75dad737c443b2ac1ecf2c3f192baf2a92474f48480d9455"
      }
    },
    "widgets": {
      "application/vnd.jupyter.widget-state+json": {
        "09ff99702f064674ad160fa7224c1a88": {
          "model_module": "@jupyter-widgets/controls",
          "model_module_version": "1.5.0",
          "model_name": "ButtonModel",
          "state": {
            "_dom_classes": [],
            "_model_module": "@jupyter-widgets/controls",
            "_model_module_version": "1.5.0",
            "_model_name": "ButtonModel",
            "_view_count": null,
            "_view_module": "@jupyter-widgets/controls",
            "_view_module_version": "1.5.0",
            "_view_name": "ButtonView",
            "button_style": "",
            "description": "Move forward (1)",
            "disabled": false,
            "icon": "",
            "layout": "IPY_MODEL_3a3a468244f4488d8c2148e221c39b5e",
            "style": "IPY_MODEL_9b1e105d4bd54ed890bec686cc7ba43b",
            "tooltip": ""
          }
        },
        "3763457149b242a089f282c230b763f7": {
          "model_module": "@jupyter-widgets/output",
          "model_module_version": "1.0.0",
          "model_name": "OutputModel",
          "state": {
            "_dom_classes": [],
            "_model_module": "@jupyter-widgets/output",
            "_model_module_version": "1.0.0",
            "_model_name": "OutputModel",
            "_view_count": null,
            "_view_module": "@jupyter-widgets/output",
            "_view_module_version": "1.0.0",
            "_view_name": "OutputView",
            "layout": "IPY_MODEL_d3615f0f7490461381a7a6fcea090e37",
            "msg_id": "",
            "outputs": []
          }
        },
        "3a3a468244f4488d8c2148e221c39b5e": {
          "model_module": "@jupyter-widgets/base",
          "model_module_version": "1.2.0",
          "model_name": "LayoutModel",
          "state": {
            "_model_module": "@jupyter-widgets/base",
            "_model_module_version": "1.2.0",
            "_model_name": "LayoutModel",
            "_view_count": null,
            "_view_module": "@jupyter-widgets/base",
            "_view_module_version": "1.2.0",
            "_view_name": "LayoutView",
            "align_content": null,
            "align_items": null,
            "align_self": null,
            "border": null,
            "bottom": null,
            "display": null,
            "flex": null,
            "flex_flow": null,
            "grid_area": null,
            "grid_auto_columns": null,
            "grid_auto_flow": null,
            "grid_auto_rows": null,
            "grid_column": null,
            "grid_gap": null,
            "grid_row": null,
            "grid_template_areas": null,
            "grid_template_columns": null,
            "grid_template_rows": null,
            "height": null,
            "justify_content": null,
            "justify_items": null,
            "left": null,
            "margin": null,
            "max_height": null,
            "max_width": null,
            "min_height": null,
            "min_width": null,
            "object_fit": null,
            "object_position": null,
            "order": null,
            "overflow": null,
            "overflow_x": null,
            "overflow_y": null,
            "padding": null,
            "right": null,
            "top": null,
            "visibility": null,
            "width": null
          }
        },
        "69bdf723814344d489d07a9486e35d5d": {
          "model_module": "@jupyter-widgets/controls",
          "model_module_version": "1.5.0",
          "model_name": "ButtonModel",
          "state": {
            "_dom_classes": [],
            "_model_module": "@jupyter-widgets/controls",
            "_model_module_version": "1.5.0",
            "_model_name": "ButtonModel",
            "_view_count": null,
            "_view_module": "@jupyter-widgets/controls",
            "_view_module_version": "1.5.0",
            "_view_name": "ButtonView",
            "button_style": "",
            "description": "Clear history",
            "disabled": false,
            "icon": "",
            "layout": "IPY_MODEL_cd40659571d845c69d4c1785ded5f733",
            "style": "IPY_MODEL_e6e148fdc84d4899a39b74897edb6567",
            "tooltip": ""
          }
        },
        "8cc761a2f7e64053b3ea7f75a0fe5d23": {
          "model_module": "@jupyter-widgets/controls",
          "model_module_version": "1.5.0",
          "model_name": "ButtonStyleModel",
          "state": {
            "_model_module": "@jupyter-widgets/controls",
            "_model_module_version": "1.5.0",
            "_model_name": "ButtonStyleModel",
            "_view_count": null,
            "_view_module": "@jupyter-widgets/base",
            "_view_module_version": "1.2.0",
            "_view_name": "StyleView",
            "button_color": null,
            "font_weight": ""
          }
        },
        "9b1e105d4bd54ed890bec686cc7ba43b": {
          "model_module": "@jupyter-widgets/controls",
          "model_module_version": "1.5.0",
          "model_name": "ButtonStyleModel",
          "state": {
            "_model_module": "@jupyter-widgets/controls",
            "_model_module_version": "1.5.0",
            "_model_name": "ButtonStyleModel",
            "_view_count": null,
            "_view_module": "@jupyter-widgets/base",
            "_view_module_version": "1.2.0",
            "_view_name": "StyleView",
            "button_color": null,
            "font_weight": ""
          }
        },
        "b8048f0744134d228b3101b62820f600": {
          "model_module": "@jupyter-widgets/base",
          "model_module_version": "1.2.0",
          "model_name": "LayoutModel",
          "state": {
            "_model_module": "@jupyter-widgets/base",
            "_model_module_version": "1.2.0",
            "_model_name": "LayoutModel",
            "_view_count": null,
            "_view_module": "@jupyter-widgets/base",
            "_view_module_version": "1.2.0",
            "_view_name": "LayoutView",
            "align_content": null,
            "align_items": null,
            "align_self": null,
            "border": null,
            "bottom": null,
            "display": null,
            "flex": null,
            "flex_flow": null,
            "grid_area": null,
            "grid_auto_columns": null,
            "grid_auto_flow": null,
            "grid_auto_rows": null,
            "grid_column": null,
            "grid_gap": null,
            "grid_row": null,
            "grid_template_areas": null,
            "grid_template_columns": null,
            "grid_template_rows": null,
            "height": null,
            "justify_content": null,
            "justify_items": null,
            "left": null,
            "margin": null,
            "max_height": null,
            "max_width": null,
            "min_height": null,
            "min_width": null,
            "object_fit": null,
            "object_position": null,
            "order": null,
            "overflow": null,
            "overflow_x": null,
            "overflow_y": null,
            "padding": null,
            "right": null,
            "top": null,
            "visibility": null,
            "width": null
          }
        },
        "cd40659571d845c69d4c1785ded5f733": {
          "model_module": "@jupyter-widgets/base",
          "model_module_version": "1.2.0",
          "model_name": "LayoutModel",
          "state": {
            "_model_module": "@jupyter-widgets/base",
            "_model_module_version": "1.2.0",
            "_model_name": "LayoutModel",
            "_view_count": null,
            "_view_module": "@jupyter-widgets/base",
            "_view_module_version": "1.2.0",
            "_view_name": "LayoutView",
            "align_content": null,
            "align_items": null,
            "align_self": null,
            "border": null,
            "bottom": null,
            "display": null,
            "flex": null,
            "flex_flow": null,
            "grid_area": null,
            "grid_auto_columns": null,
            "grid_auto_flow": null,
            "grid_auto_rows": null,
            "grid_column": null,
            "grid_gap": null,
            "grid_row": null,
            "grid_template_areas": null,
            "grid_template_columns": null,
            "grid_template_rows": null,
            "height": null,
            "justify_content": null,
            "justify_items": null,
            "left": null,
            "margin": null,
            "max_height": null,
            "max_width": null,
            "min_height": null,
            "min_width": null,
            "object_fit": null,
            "object_position": null,
            "order": null,
            "overflow": null,
            "overflow_x": null,
            "overflow_y": null,
            "padding": null,
            "right": null,
            "top": null,
            "visibility": null,
            "width": null
          }
        },
        "cf529089ffe84df98191aef9da12f3d5": {
          "model_module": "@jupyter-widgets/controls",
          "model_module_version": "1.5.0",
          "model_name": "ButtonModel",
          "state": {
            "_dom_classes": [],
            "_model_module": "@jupyter-widgets/controls",
            "_model_module_version": "1.5.0",
            "_model_name": "ButtonModel",
            "_view_count": null,
            "_view_module": "@jupyter-widgets/controls",
            "_view_module_version": "1.5.0",
            "_view_name": "ButtonView",
            "button_style": "",
            "description": "Stay still (0)",
            "disabled": false,
            "icon": "",
            "layout": "IPY_MODEL_b8048f0744134d228b3101b62820f600",
            "style": "IPY_MODEL_8cc761a2f7e64053b3ea7f75a0fe5d23",
            "tooltip": ""
          }
        },
        "d3615f0f7490461381a7a6fcea090e37": {
          "model_module": "@jupyter-widgets/base",
          "model_module_version": "1.2.0",
          "model_name": "LayoutModel",
          "state": {
            "_model_module": "@jupyter-widgets/base",
            "_model_module_version": "1.2.0",
            "_model_name": "LayoutModel",
            "_view_count": null,
            "_view_module": "@jupyter-widgets/base",
            "_view_module_version": "1.2.0",
            "_view_name": "LayoutView",
            "align_content": null,
            "align_items": null,
            "align_self": null,
            "border": null,
            "bottom": null,
            "display": null,
            "flex": null,
            "flex_flow": null,
            "grid_area": null,
            "grid_auto_columns": null,
            "grid_auto_flow": null,
            "grid_auto_rows": null,
            "grid_column": null,
            "grid_gap": null,
            "grid_row": null,
            "grid_template_areas": null,
            "grid_template_columns": null,
            "grid_template_rows": null,
            "height": null,
            "justify_content": null,
            "justify_items": null,
            "left": null,
            "margin": null,
            "max_height": null,
            "max_width": null,
            "min_height": null,
            "min_width": null,
            "object_fit": null,
            "object_position": null,
            "order": null,
            "overflow": null,
            "overflow_x": null,
            "overflow_y": null,
            "padding": null,
            "right": null,
            "top": null,
            "visibility": null,
            "width": null
          }
        },
        "e6e148fdc84d4899a39b74897edb6567": {
          "model_module": "@jupyter-widgets/controls",
          "model_module_version": "1.5.0",
          "model_name": "ButtonStyleModel",
          "state": {
            "_model_module": "@jupyter-widgets/controls",
            "_model_module_version": "1.5.0",
            "_model_name": "ButtonStyleModel",
            "_view_count": null,
            "_view_module": "@jupyter-widgets/base",
            "_view_module_version": "1.2.0",
            "_view_name": "StyleView",
            "button_color": null,
            "font_weight": ""
          }
        }
      }
    }
  },
  "nbformat": 4,
  "nbformat_minor": 0
}
